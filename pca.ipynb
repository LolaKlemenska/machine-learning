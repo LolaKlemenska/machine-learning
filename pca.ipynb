{
 "cells": [
  {
   "cell_type": "code",
   "execution_count": null,
   "metadata": {
    "vscode": {
     "languageId": "plaintext"
    }
   },
   "outputs": [],
   "source": [
    "pcas = pd.DataFrame(pca.components_).transpose()\n",
    "pcas.columns = ['PCA1', 'PCA2', 'PCA3', 'PCA4']\n",
    "pcas\n",
    "pca0 = pca.components_[0, :]\n",
    "pca1 = pca.components_[1, :]\n",
    "pca2 = pca.components_[2, :]\n",
    "pca3 = pca.components_[3, :]"
   ]
  }
 ],
 "metadata": {
  "language_info": {
   "name": "python"
  }
 },
 "nbformat": 4,
 "nbformat_minor": 2
}
